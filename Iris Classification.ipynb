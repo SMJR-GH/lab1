{
 "cells": [
  {
   "cell_type": "code",
   "execution_count": 1,
   "id": "71523e4a",
   "metadata": {},
   "outputs": [],
   "source": [
    "# Import necessary libraries\n",
    "from sklearn.datasets import load_iris\n",
    "from sklearn.model_selection import train_test_split\n",
    "from sklearn.ensemble import RandomForestClassifier\n",
    "from sklearn.metrics import accuracy_score\n",
    "import pandas as pd"
   ]
  },
  {
   "cell_type": "code",
   "execution_count": 2,
   "id": "4c2e1c50",
   "metadata": {},
   "outputs": [],
   "source": [
    "# Step 1: Load the dataset\n",
    "def load_data():\n",
    "    \"\"\"Load Iris dataset as a pandas DataFrame.\"\"\"\n",
    "    iris = load_iris()\n",
    "    data = pd.DataFrame(iris.data, columns=iris.feature_names)\n",
    "    data['target'] = iris.target\n",
    "    return data, iris.target_names"
   ]
  },
  {
   "cell_type": "code",
   "execution_count": 3,
   "id": "81512541",
   "metadata": {},
   "outputs": [],
   "source": [
    "# Step 2: Preprocess the data\n",
    "def preprocess_data(data):\n",
    "    \"\"\"Split the dataset into training and testing sets.\"\"\"\n",
    "    X = data.drop('target', axis=1)\n",
    "    y = data['target']\n",
    "    return train_test_split(X, y, test_size=0.2, random_state=42)\n"
   ]
  },
  {
   "cell_type": "code",
   "execution_count": 4,
   "id": "2be75383",
   "metadata": {},
   "outputs": [],
   "source": [
    "# Step 3: Train the model\n",
    "def train_model(X_train, y_train):\n",
    "    \"\"\"Train a Random Forest model.\"\"\"\n",
    "    model = RandomForestClassifier(random_state=42)\n",
    "    model.fit(X_train, y_train)\n",
    "    return model"
   ]
  },
  {
   "cell_type": "code",
   "execution_count": 5,
   "id": "8c674b14",
   "metadata": {},
   "outputs": [],
   "source": [
    "# Step 4: Evaluate the model\n",
    "def evaluate_model(model, X_test, y_test, target_names):\n",
    "    \"\"\"Evaluate the model and print accuracy.\"\"\"\n",
    "    predictions = model.predict(X_test)\n",
    "    accuracy = accuracy_score(y_test, predictions)\n",
    "    print(f\"Accuracy: {accuracy:.2f}\")\n",
    "    print(\"Sample Predictions:\")\n",
    "    for i, prediction in enumerate(predictions[:5]):\n",
    "        print(f\"Predicted: {target_names[prediction]}, Actual: {target_names[y_test.iloc[i]]}\")"
   ]
  },
  {
   "cell_type": "code",
   "execution_count": 6,
   "id": "d72e95e7",
   "metadata": {},
   "outputs": [
    {
     "name": "stdout",
     "output_type": "stream",
     "text": [
      "Accuracy: 1.00\n",
      "Sample Predictions:\n",
      "Predicted: versicolor, Actual: versicolor\n",
      "Predicted: setosa, Actual: setosa\n",
      "Predicted: virginica, Actual: virginica\n",
      "Predicted: versicolor, Actual: versicolor\n",
      "Predicted: versicolor, Actual: versicolor\n"
     ]
    }
   ],
   "source": [
    "# Main function\n",
    "if __name__ == \"__main__\":\n",
    "    # Load and preprocess data\n",
    "    data, target_names = load_data()\n",
    "    X_train, X_test, y_train, y_test = preprocess_data(data)\n",
    "\n",
    "    # Train the model\n",
    "    model = train_model(X_train, y_train)\n",
    "\n",
    "    # Evaluate the model\n",
    "    evaluate_model(model, X_test, y_test, target_names)\n"
   ]
  }
 ],
 "metadata": {
  "kernelspec": {
   "display_name": "Python 3 (ipykernel)",
   "language": "python",
   "name": "python3"
  },
  "language_info": {
   "codemirror_mode": {
    "name": "ipython",
    "version": 3
   },
   "file_extension": ".py",
   "mimetype": "text/x-python",
   "name": "python",
   "nbconvert_exporter": "python",
   "pygments_lexer": "ipython3",
   "version": "3.9.13"
  }
 },
 "nbformat": 4,
 "nbformat_minor": 5
}
